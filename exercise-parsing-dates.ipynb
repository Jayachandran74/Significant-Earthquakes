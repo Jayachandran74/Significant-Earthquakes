{
 "cells": [
  {
   "cell_type": "markdown",
   "id": "7977f6b2",
   "metadata": {
    "papermill": {
     "duration": 0.008155,
     "end_time": "2023-01-12T16:01:12.109276",
     "exception": false,
     "start_time": "2023-01-12T16:01:12.101121",
     "status": "completed"
    },
    "tags": []
   },
   "source": [
    "**This notebook is an exercise in the [Data Cleaning](https://www.kaggle.com/learn/data-cleaning) course.  You can reference the tutorial at [this link](https://www.kaggle.com/alexisbcook/parsing-dates).**\n",
    "\n",
    "---\n"
   ]
  },
  {
   "cell_type": "markdown",
   "id": "9d9087db",
   "metadata": {
    "papermill": {
     "duration": 0.006671,
     "end_time": "2023-01-12T16:01:12.123021",
     "exception": false,
     "start_time": "2023-01-12T16:01:12.116350",
     "status": "completed"
    },
    "tags": []
   },
   "source": [
    "In this exercise, you'll apply what you learned in the **Parsing dates** tutorial.\n",
    "\n",
    "# Setup\n",
    "\n",
    "The questions below will give you feedback on your work. Run the following cell to set up the feedback system."
   ]
  },
  {
   "cell_type": "code",
   "execution_count": 1,
   "id": "2040ca19",
   "metadata": {
    "execution": {
     "iopub.execute_input": "2023-01-12T16:01:12.141088Z",
     "iopub.status.busy": "2023-01-12T16:01:12.139953Z",
     "iopub.status.idle": "2023-01-12T16:01:13.400695Z",
     "shell.execute_reply": "2023-01-12T16:01:13.399466Z"
    },
    "papermill": {
     "duration": 1.273204,
     "end_time": "2023-01-12T16:01:13.403915",
     "exception": false,
     "start_time": "2023-01-12T16:01:12.130711",
     "status": "completed"
    },
    "tags": []
   },
   "outputs": [
    {
     "name": "stdout",
     "output_type": "stream",
     "text": [
      "Setup Complete\n"
     ]
    }
   ],
   "source": [
    "from learntools.core import binder\n",
    "binder.bind(globals())\n",
    "from learntools.data_cleaning.ex3 import *\n",
    "print(\"Setup Complete\")"
   ]
  },
  {
   "cell_type": "markdown",
   "id": "72fa7d7e",
   "metadata": {
    "papermill": {
     "duration": 0.006927,
     "end_time": "2023-01-12T16:01:13.418002",
     "exception": false,
     "start_time": "2023-01-12T16:01:13.411075",
     "status": "completed"
    },
    "tags": []
   },
   "source": [
    "# Get our environment set up\n",
    "\n",
    "The first thing we'll need to do is load in the libraries and dataset we'll be using. We'll be working with a dataset containing information on earthquakes that occured between 1965 and 2016."
   ]
  },
  {
   "cell_type": "code",
   "execution_count": 2,
   "id": "f77745ce",
   "metadata": {
    "execution": {
     "iopub.execute_input": "2023-01-12T16:01:13.434933Z",
     "iopub.status.busy": "2023-01-12T16:01:13.434517Z",
     "iopub.status.idle": "2023-01-12T16:01:13.535378Z",
     "shell.execute_reply": "2023-01-12T16:01:13.534151Z"
    },
    "papermill": {
     "duration": 0.1127,
     "end_time": "2023-01-12T16:01:13.538086",
     "exception": false,
     "start_time": "2023-01-12T16:01:13.425386",
     "status": "completed"
    },
    "tags": []
   },
   "outputs": [],
   "source": [
    "# modules we'll use\n",
    "import pandas as pd\n",
    "import numpy as np\n",
    "import seaborn as sns\n",
    "import datetime\n",
    "\n",
    "# read in our data\n",
    "earthquakes = pd.read_csv(\"../input/earthquake-database/database.csv\")\n",
    "\n",
    "# set seed for reproducibility\n",
    "np.random.seed(0)"
   ]
  },
  {
   "cell_type": "markdown",
   "id": "9b4552ec",
   "metadata": {
    "papermill": {
     "duration": 0.008412,
     "end_time": "2023-01-12T16:01:13.553636",
     "exception": false,
     "start_time": "2023-01-12T16:01:13.545224",
     "status": "completed"
    },
    "tags": []
   },
   "source": [
    "# 1) Check the data type of our date column\n",
    "\n",
    "You'll be working with the \"Date\" column from the `earthquakes` dataframe.  Investigate this column now: does it look like it contains dates?  What is the dtype of the column?"
   ]
  },
  {
   "cell_type": "code",
   "execution_count": 3,
   "id": "95dc680c",
   "metadata": {
    "execution": {
     "iopub.execute_input": "2023-01-12T16:01:13.569423Z",
     "iopub.status.busy": "2023-01-12T16:01:13.569000Z",
     "iopub.status.idle": "2023-01-12T16:01:13.608489Z",
     "shell.execute_reply": "2023-01-12T16:01:13.606434Z"
    },
    "papermill": {
     "duration": 0.050618,
     "end_time": "2023-01-12T16:01:13.611296",
     "exception": false,
     "start_time": "2023-01-12T16:01:13.560678",
     "status": "completed"
    },
    "tags": []
   },
   "outputs": [
    {
     "data": {
      "text/html": [
       "<div>\n",
       "<style scoped>\n",
       "    .dataframe tbody tr th:only-of-type {\n",
       "        vertical-align: middle;\n",
       "    }\n",
       "\n",
       "    .dataframe tbody tr th {\n",
       "        vertical-align: top;\n",
       "    }\n",
       "\n",
       "    .dataframe thead th {\n",
       "        text-align: right;\n",
       "    }\n",
       "</style>\n",
       "<table border=\"1\" class=\"dataframe\">\n",
       "  <thead>\n",
       "    <tr style=\"text-align: right;\">\n",
       "      <th></th>\n",
       "      <th>Date</th>\n",
       "      <th>Time</th>\n",
       "      <th>Latitude</th>\n",
       "      <th>Longitude</th>\n",
       "      <th>Type</th>\n",
       "      <th>Depth</th>\n",
       "      <th>Depth Error</th>\n",
       "      <th>Depth Seismic Stations</th>\n",
       "      <th>Magnitude</th>\n",
       "      <th>Magnitude Type</th>\n",
       "      <th>...</th>\n",
       "      <th>Magnitude Seismic Stations</th>\n",
       "      <th>Azimuthal Gap</th>\n",
       "      <th>Horizontal Distance</th>\n",
       "      <th>Horizontal Error</th>\n",
       "      <th>Root Mean Square</th>\n",
       "      <th>ID</th>\n",
       "      <th>Source</th>\n",
       "      <th>Location Source</th>\n",
       "      <th>Magnitude Source</th>\n",
       "      <th>Status</th>\n",
       "    </tr>\n",
       "  </thead>\n",
       "  <tbody>\n",
       "    <tr>\n",
       "      <th>0</th>\n",
       "      <td>01/02/1965</td>\n",
       "      <td>13:44:18</td>\n",
       "      <td>19.246</td>\n",
       "      <td>145.616</td>\n",
       "      <td>Earthquake</td>\n",
       "      <td>131.6</td>\n",
       "      <td>NaN</td>\n",
       "      <td>NaN</td>\n",
       "      <td>6.0</td>\n",
       "      <td>MW</td>\n",
       "      <td>...</td>\n",
       "      <td>NaN</td>\n",
       "      <td>NaN</td>\n",
       "      <td>NaN</td>\n",
       "      <td>NaN</td>\n",
       "      <td>NaN</td>\n",
       "      <td>ISCGEM860706</td>\n",
       "      <td>ISCGEM</td>\n",
       "      <td>ISCGEM</td>\n",
       "      <td>ISCGEM</td>\n",
       "      <td>Automatic</td>\n",
       "    </tr>\n",
       "    <tr>\n",
       "      <th>1</th>\n",
       "      <td>01/04/1965</td>\n",
       "      <td>11:29:49</td>\n",
       "      <td>1.863</td>\n",
       "      <td>127.352</td>\n",
       "      <td>Earthquake</td>\n",
       "      <td>80.0</td>\n",
       "      <td>NaN</td>\n",
       "      <td>NaN</td>\n",
       "      <td>5.8</td>\n",
       "      <td>MW</td>\n",
       "      <td>...</td>\n",
       "      <td>NaN</td>\n",
       "      <td>NaN</td>\n",
       "      <td>NaN</td>\n",
       "      <td>NaN</td>\n",
       "      <td>NaN</td>\n",
       "      <td>ISCGEM860737</td>\n",
       "      <td>ISCGEM</td>\n",
       "      <td>ISCGEM</td>\n",
       "      <td>ISCGEM</td>\n",
       "      <td>Automatic</td>\n",
       "    </tr>\n",
       "    <tr>\n",
       "      <th>2</th>\n",
       "      <td>01/05/1965</td>\n",
       "      <td>18:05:58</td>\n",
       "      <td>-20.579</td>\n",
       "      <td>-173.972</td>\n",
       "      <td>Earthquake</td>\n",
       "      <td>20.0</td>\n",
       "      <td>NaN</td>\n",
       "      <td>NaN</td>\n",
       "      <td>6.2</td>\n",
       "      <td>MW</td>\n",
       "      <td>...</td>\n",
       "      <td>NaN</td>\n",
       "      <td>NaN</td>\n",
       "      <td>NaN</td>\n",
       "      <td>NaN</td>\n",
       "      <td>NaN</td>\n",
       "      <td>ISCGEM860762</td>\n",
       "      <td>ISCGEM</td>\n",
       "      <td>ISCGEM</td>\n",
       "      <td>ISCGEM</td>\n",
       "      <td>Automatic</td>\n",
       "    </tr>\n",
       "    <tr>\n",
       "      <th>3</th>\n",
       "      <td>01/08/1965</td>\n",
       "      <td>18:49:43</td>\n",
       "      <td>-59.076</td>\n",
       "      <td>-23.557</td>\n",
       "      <td>Earthquake</td>\n",
       "      <td>15.0</td>\n",
       "      <td>NaN</td>\n",
       "      <td>NaN</td>\n",
       "      <td>5.8</td>\n",
       "      <td>MW</td>\n",
       "      <td>...</td>\n",
       "      <td>NaN</td>\n",
       "      <td>NaN</td>\n",
       "      <td>NaN</td>\n",
       "      <td>NaN</td>\n",
       "      <td>NaN</td>\n",
       "      <td>ISCGEM860856</td>\n",
       "      <td>ISCGEM</td>\n",
       "      <td>ISCGEM</td>\n",
       "      <td>ISCGEM</td>\n",
       "      <td>Automatic</td>\n",
       "    </tr>\n",
       "    <tr>\n",
       "      <th>4</th>\n",
       "      <td>01/09/1965</td>\n",
       "      <td>13:32:50</td>\n",
       "      <td>11.938</td>\n",
       "      <td>126.427</td>\n",
       "      <td>Earthquake</td>\n",
       "      <td>15.0</td>\n",
       "      <td>NaN</td>\n",
       "      <td>NaN</td>\n",
       "      <td>5.8</td>\n",
       "      <td>MW</td>\n",
       "      <td>...</td>\n",
       "      <td>NaN</td>\n",
       "      <td>NaN</td>\n",
       "      <td>NaN</td>\n",
       "      <td>NaN</td>\n",
       "      <td>NaN</td>\n",
       "      <td>ISCGEM860890</td>\n",
       "      <td>ISCGEM</td>\n",
       "      <td>ISCGEM</td>\n",
       "      <td>ISCGEM</td>\n",
       "      <td>Automatic</td>\n",
       "    </tr>\n",
       "  </tbody>\n",
       "</table>\n",
       "<p>5 rows × 21 columns</p>\n",
       "</div>"
      ],
      "text/plain": [
       "         Date      Time  Latitude  Longitude        Type  Depth  Depth Error  \\\n",
       "0  01/02/1965  13:44:18    19.246    145.616  Earthquake  131.6          NaN   \n",
       "1  01/04/1965  11:29:49     1.863    127.352  Earthquake   80.0          NaN   \n",
       "2  01/05/1965  18:05:58   -20.579   -173.972  Earthquake   20.0          NaN   \n",
       "3  01/08/1965  18:49:43   -59.076    -23.557  Earthquake   15.0          NaN   \n",
       "4  01/09/1965  13:32:50    11.938    126.427  Earthquake   15.0          NaN   \n",
       "\n",
       "   Depth Seismic Stations  Magnitude Magnitude Type  ...  \\\n",
       "0                     NaN        6.0             MW  ...   \n",
       "1                     NaN        5.8             MW  ...   \n",
       "2                     NaN        6.2             MW  ...   \n",
       "3                     NaN        5.8             MW  ...   \n",
       "4                     NaN        5.8             MW  ...   \n",
       "\n",
       "   Magnitude Seismic Stations  Azimuthal Gap  Horizontal Distance  \\\n",
       "0                         NaN            NaN                  NaN   \n",
       "1                         NaN            NaN                  NaN   \n",
       "2                         NaN            NaN                  NaN   \n",
       "3                         NaN            NaN                  NaN   \n",
       "4                         NaN            NaN                  NaN   \n",
       "\n",
       "   Horizontal Error  Root Mean Square            ID  Source Location Source  \\\n",
       "0               NaN               NaN  ISCGEM860706  ISCGEM          ISCGEM   \n",
       "1               NaN               NaN  ISCGEM860737  ISCGEM          ISCGEM   \n",
       "2               NaN               NaN  ISCGEM860762  ISCGEM          ISCGEM   \n",
       "3               NaN               NaN  ISCGEM860856  ISCGEM          ISCGEM   \n",
       "4               NaN               NaN  ISCGEM860890  ISCGEM          ISCGEM   \n",
       "\n",
       "  Magnitude Source     Status  \n",
       "0           ISCGEM  Automatic  \n",
       "1           ISCGEM  Automatic  \n",
       "2           ISCGEM  Automatic  \n",
       "3           ISCGEM  Automatic  \n",
       "4           ISCGEM  Automatic  \n",
       "\n",
       "[5 rows x 21 columns]"
      ]
     },
     "execution_count": 3,
     "metadata": {},
     "output_type": "execute_result"
    }
   ],
   "source": [
    "# TODO: Your code here!\n",
    "earthquakes.head()"
   ]
  },
  {
   "cell_type": "code",
   "execution_count": 4,
   "id": "72bcee74",
   "metadata": {
    "execution": {
     "iopub.execute_input": "2023-01-12T16:01:13.628855Z",
     "iopub.status.busy": "2023-01-12T16:01:13.628456Z",
     "iopub.status.idle": "2023-01-12T16:01:13.635966Z",
     "shell.execute_reply": "2023-01-12T16:01:13.633967Z"
    },
    "papermill": {
     "duration": 0.019547,
     "end_time": "2023-01-12T16:01:13.638839",
     "exception": false,
     "start_time": "2023-01-12T16:01:13.619292",
     "status": "completed"
    },
    "tags": []
   },
   "outputs": [
    {
     "data": {
      "text/plain": [
       "dtype('O')"
      ]
     },
     "execution_count": 4,
     "metadata": {},
     "output_type": "execute_result"
    }
   ],
   "source": [
    "earthquakes['Date'].dtype"
   ]
  },
  {
   "cell_type": "markdown",
   "id": "4065c50b",
   "metadata": {
    "papermill": {
     "duration": 0.009262,
     "end_time": "2023-01-12T16:01:13.658000",
     "exception": false,
     "start_time": "2023-01-12T16:01:13.648738",
     "status": "completed"
    },
    "tags": []
   },
   "source": [
    "Once you have answered the question above, run the code cell below to get credit for your work."
   ]
  },
  {
   "cell_type": "code",
   "execution_count": 5,
   "id": "30b7a59b",
   "metadata": {
    "execution": {
     "iopub.execute_input": "2023-01-12T16:01:13.675566Z",
     "iopub.status.busy": "2023-01-12T16:01:13.674374Z",
     "iopub.status.idle": "2023-01-12T16:01:13.682844Z",
     "shell.execute_reply": "2023-01-12T16:01:13.681929Z"
    },
    "papermill": {
     "duration": 0.02087,
     "end_time": "2023-01-12T16:01:13.686474",
     "exception": false,
     "start_time": "2023-01-12T16:01:13.665604",
     "status": "completed"
    },
    "tags": []
   },
   "outputs": [
    {
     "data": {
      "application/javascript": [
       "parent.postMessage({\"jupyterEvent\": \"custom.exercise_interaction\", \"data\": {\"outcomeType\": 1, \"valueTowardsCompletion\": 0.25, \"interactionType\": 1, \"questionType\": 4, \"questionId\": \"1_CheckDtype\", \"learnToolsVersion\": \"0.3.4\", \"failureMessage\": \"\", \"exceptionClass\": \"\", \"trace\": \"\"}}, \"*\")"
      ],
      "text/plain": [
       "<IPython.core.display.Javascript object>"
      ]
     },
     "metadata": {},
     "output_type": "display_data"
    },
    {
     "data": {
      "text/markdown": [
       "<span style=\"color:#33cc33\">Correct:</span> \n",
       "\n",
       "The \"Date\" column in the `earthquakes` DataFrame does have dates.  The dtype is \"object\"."
      ],
      "text/plain": [
       "Correct: \n",
       "\n",
       "The \"Date\" column in the `earthquakes` DataFrame does have dates.  The dtype is \"object\"."
      ]
     },
     "metadata": {},
     "output_type": "display_data"
    }
   ],
   "source": [
    "# Check your answer (Run this code cell to receive credit!)\n",
    "q1.check()"
   ]
  },
  {
   "cell_type": "code",
   "execution_count": 6,
   "id": "0e9d63c5",
   "metadata": {
    "execution": {
     "iopub.execute_input": "2023-01-12T16:01:13.705176Z",
     "iopub.status.busy": "2023-01-12T16:01:13.704289Z",
     "iopub.status.idle": "2023-01-12T16:01:13.709275Z",
     "shell.execute_reply": "2023-01-12T16:01:13.708064Z"
    },
    "papermill": {
     "duration": 0.017289,
     "end_time": "2023-01-12T16:01:13.712026",
     "exception": false,
     "start_time": "2023-01-12T16:01:13.694737",
     "status": "completed"
    },
    "tags": []
   },
   "outputs": [],
   "source": [
    "# Line below will give you a hint\n",
    "#q1.hint()"
   ]
  },
  {
   "cell_type": "markdown",
   "id": "0939138c",
   "metadata": {
    "papermill": {
     "duration": 0.007433,
     "end_time": "2023-01-12T16:01:13.727295",
     "exception": false,
     "start_time": "2023-01-12T16:01:13.719862",
     "status": "completed"
    },
    "tags": []
   },
   "source": [
    "# 2) Convert our date columns to datetime\n",
    "\n",
    "Most of the entries in the \"Date\" column follow the same format: \"month/day/four-digit year\".  However, the entry at index 3378 follows a completely different pattern.  Run the code cell below to see this."
   ]
  },
  {
   "cell_type": "code",
   "execution_count": 7,
   "id": "d7cef0b9",
   "metadata": {
    "execution": {
     "iopub.execute_input": "2023-01-12T16:01:13.744704Z",
     "iopub.status.busy": "2023-01-12T16:01:13.744177Z",
     "iopub.status.idle": "2023-01-12T16:01:13.775620Z",
     "shell.execute_reply": "2023-01-12T16:01:13.774293Z"
    },
    "papermill": {
     "duration": 0.043181,
     "end_time": "2023-01-12T16:01:13.778333",
     "exception": false,
     "start_time": "2023-01-12T16:01:13.735152",
     "status": "completed"
    },
    "tags": []
   },
   "outputs": [
    {
     "data": {
      "text/html": [
       "<div>\n",
       "<style scoped>\n",
       "    .dataframe tbody tr th:only-of-type {\n",
       "        vertical-align: middle;\n",
       "    }\n",
       "\n",
       "    .dataframe tbody tr th {\n",
       "        vertical-align: top;\n",
       "    }\n",
       "\n",
       "    .dataframe thead th {\n",
       "        text-align: right;\n",
       "    }\n",
       "</style>\n",
       "<table border=\"1\" class=\"dataframe\">\n",
       "  <thead>\n",
       "    <tr style=\"text-align: right;\">\n",
       "      <th></th>\n",
       "      <th>Date</th>\n",
       "      <th>Time</th>\n",
       "      <th>Latitude</th>\n",
       "      <th>Longitude</th>\n",
       "      <th>Type</th>\n",
       "      <th>Depth</th>\n",
       "      <th>Depth Error</th>\n",
       "      <th>Depth Seismic Stations</th>\n",
       "      <th>Magnitude</th>\n",
       "      <th>Magnitude Type</th>\n",
       "      <th>...</th>\n",
       "      <th>Magnitude Seismic Stations</th>\n",
       "      <th>Azimuthal Gap</th>\n",
       "      <th>Horizontal Distance</th>\n",
       "      <th>Horizontal Error</th>\n",
       "      <th>Root Mean Square</th>\n",
       "      <th>ID</th>\n",
       "      <th>Source</th>\n",
       "      <th>Location Source</th>\n",
       "      <th>Magnitude Source</th>\n",
       "      <th>Status</th>\n",
       "    </tr>\n",
       "  </thead>\n",
       "  <tbody>\n",
       "    <tr>\n",
       "      <th>3378</th>\n",
       "      <td>1975-02-23T02:58:41.000Z</td>\n",
       "      <td>1975-02-23T02:58:41.000Z</td>\n",
       "      <td>8.017</td>\n",
       "      <td>124.075</td>\n",
       "      <td>Earthquake</td>\n",
       "      <td>623.0</td>\n",
       "      <td>NaN</td>\n",
       "      <td>NaN</td>\n",
       "      <td>5.6</td>\n",
       "      <td>MB</td>\n",
       "      <td>...</td>\n",
       "      <td>NaN</td>\n",
       "      <td>NaN</td>\n",
       "      <td>NaN</td>\n",
       "      <td>NaN</td>\n",
       "      <td>NaN</td>\n",
       "      <td>USP0000A09</td>\n",
       "      <td>US</td>\n",
       "      <td>US</td>\n",
       "      <td>US</td>\n",
       "      <td>Reviewed</td>\n",
       "    </tr>\n",
       "    <tr>\n",
       "      <th>3379</th>\n",
       "      <td>02/23/1975</td>\n",
       "      <td>03:53:36</td>\n",
       "      <td>-21.727</td>\n",
       "      <td>-71.356</td>\n",
       "      <td>Earthquake</td>\n",
       "      <td>33.0</td>\n",
       "      <td>NaN</td>\n",
       "      <td>NaN</td>\n",
       "      <td>5.6</td>\n",
       "      <td>MB</td>\n",
       "      <td>...</td>\n",
       "      <td>NaN</td>\n",
       "      <td>NaN</td>\n",
       "      <td>NaN</td>\n",
       "      <td>NaN</td>\n",
       "      <td>NaN</td>\n",
       "      <td>USP0000A0A</td>\n",
       "      <td>US</td>\n",
       "      <td>US</td>\n",
       "      <td>US</td>\n",
       "      <td>Reviewed</td>\n",
       "    </tr>\n",
       "    <tr>\n",
       "      <th>3380</th>\n",
       "      <td>02/23/1975</td>\n",
       "      <td>07:34:11</td>\n",
       "      <td>-10.879</td>\n",
       "      <td>166.667</td>\n",
       "      <td>Earthquake</td>\n",
       "      <td>33.0</td>\n",
       "      <td>NaN</td>\n",
       "      <td>NaN</td>\n",
       "      <td>5.5</td>\n",
       "      <td>MS</td>\n",
       "      <td>...</td>\n",
       "      <td>NaN</td>\n",
       "      <td>NaN</td>\n",
       "      <td>NaN</td>\n",
       "      <td>NaN</td>\n",
       "      <td>NaN</td>\n",
       "      <td>USP0000A0C</td>\n",
       "      <td>US</td>\n",
       "      <td>US</td>\n",
       "      <td>US</td>\n",
       "      <td>Reviewed</td>\n",
       "    </tr>\n",
       "    <tr>\n",
       "      <th>3381</th>\n",
       "      <td>02/25/1975</td>\n",
       "      <td>05:20:05</td>\n",
       "      <td>-7.388</td>\n",
       "      <td>149.798</td>\n",
       "      <td>Earthquake</td>\n",
       "      <td>33.0</td>\n",
       "      <td>NaN</td>\n",
       "      <td>NaN</td>\n",
       "      <td>5.5</td>\n",
       "      <td>MB</td>\n",
       "      <td>...</td>\n",
       "      <td>NaN</td>\n",
       "      <td>NaN</td>\n",
       "      <td>NaN</td>\n",
       "      <td>NaN</td>\n",
       "      <td>NaN</td>\n",
       "      <td>USP0000A12</td>\n",
       "      <td>US</td>\n",
       "      <td>US</td>\n",
       "      <td>US</td>\n",
       "      <td>Reviewed</td>\n",
       "    </tr>\n",
       "    <tr>\n",
       "      <th>3382</th>\n",
       "      <td>02/26/1975</td>\n",
       "      <td>04:48:55</td>\n",
       "      <td>85.047</td>\n",
       "      <td>97.969</td>\n",
       "      <td>Earthquake</td>\n",
       "      <td>33.0</td>\n",
       "      <td>NaN</td>\n",
       "      <td>NaN</td>\n",
       "      <td>5.6</td>\n",
       "      <td>MS</td>\n",
       "      <td>...</td>\n",
       "      <td>NaN</td>\n",
       "      <td>NaN</td>\n",
       "      <td>NaN</td>\n",
       "      <td>NaN</td>\n",
       "      <td>NaN</td>\n",
       "      <td>USP0000A1H</td>\n",
       "      <td>US</td>\n",
       "      <td>US</td>\n",
       "      <td>US</td>\n",
       "      <td>Reviewed</td>\n",
       "    </tr>\n",
       "  </tbody>\n",
       "</table>\n",
       "<p>5 rows × 21 columns</p>\n",
       "</div>"
      ],
      "text/plain": [
       "                          Date                      Time  Latitude  Longitude  \\\n",
       "3378  1975-02-23T02:58:41.000Z  1975-02-23T02:58:41.000Z     8.017    124.075   \n",
       "3379                02/23/1975                  03:53:36   -21.727    -71.356   \n",
       "3380                02/23/1975                  07:34:11   -10.879    166.667   \n",
       "3381                02/25/1975                  05:20:05    -7.388    149.798   \n",
       "3382                02/26/1975                  04:48:55    85.047     97.969   \n",
       "\n",
       "            Type  Depth  Depth Error  Depth Seismic Stations  Magnitude  \\\n",
       "3378  Earthquake  623.0          NaN                     NaN        5.6   \n",
       "3379  Earthquake   33.0          NaN                     NaN        5.6   \n",
       "3380  Earthquake   33.0          NaN                     NaN        5.5   \n",
       "3381  Earthquake   33.0          NaN                     NaN        5.5   \n",
       "3382  Earthquake   33.0          NaN                     NaN        5.6   \n",
       "\n",
       "     Magnitude Type  ...  Magnitude Seismic Stations  Azimuthal Gap  \\\n",
       "3378             MB  ...                         NaN            NaN   \n",
       "3379             MB  ...                         NaN            NaN   \n",
       "3380             MS  ...                         NaN            NaN   \n",
       "3381             MB  ...                         NaN            NaN   \n",
       "3382             MS  ...                         NaN            NaN   \n",
       "\n",
       "      Horizontal Distance  Horizontal Error  Root Mean Square          ID  \\\n",
       "3378                  NaN               NaN               NaN  USP0000A09   \n",
       "3379                  NaN               NaN               NaN  USP0000A0A   \n",
       "3380                  NaN               NaN               NaN  USP0000A0C   \n",
       "3381                  NaN               NaN               NaN  USP0000A12   \n",
       "3382                  NaN               NaN               NaN  USP0000A1H   \n",
       "\n",
       "     Source Location Source Magnitude Source    Status  \n",
       "3378     US              US               US  Reviewed  \n",
       "3379     US              US               US  Reviewed  \n",
       "3380     US              US               US  Reviewed  \n",
       "3381     US              US               US  Reviewed  \n",
       "3382     US              US               US  Reviewed  \n",
       "\n",
       "[5 rows x 21 columns]"
      ]
     },
     "execution_count": 7,
     "metadata": {},
     "output_type": "execute_result"
    }
   ],
   "source": [
    "earthquakes[3378:3383]"
   ]
  },
  {
   "cell_type": "markdown",
   "id": "15548316",
   "metadata": {
    "papermill": {
     "duration": 0.00834,
     "end_time": "2023-01-12T16:01:13.795394",
     "exception": false,
     "start_time": "2023-01-12T16:01:13.787054",
     "status": "completed"
    },
    "tags": []
   },
   "source": [
    "This does appear to be an issue with data entry: ideally, all entries in the column have the same format.  We can get an idea of how widespread this issue is by checking the length of each entry in the \"Date\" column."
   ]
  },
  {
   "cell_type": "code",
   "execution_count": 8,
   "id": "0e106acf",
   "metadata": {
    "execution": {
     "iopub.execute_input": "2023-01-12T16:01:13.815470Z",
     "iopub.status.busy": "2023-01-12T16:01:13.814976Z",
     "iopub.status.idle": "2023-01-12T16:01:13.835584Z",
     "shell.execute_reply": "2023-01-12T16:01:13.834657Z"
    },
    "papermill": {
     "duration": 0.033727,
     "end_time": "2023-01-12T16:01:13.837864",
     "exception": false,
     "start_time": "2023-01-12T16:01:13.804137",
     "status": "completed"
    },
    "tags": []
   },
   "outputs": [
    {
     "data": {
      "text/plain": [
       "10    23409\n",
       "24        3\n",
       "Name: Date, dtype: int64"
      ]
     },
     "execution_count": 8,
     "metadata": {},
     "output_type": "execute_result"
    }
   ],
   "source": [
    "date_lengths = earthquakes.Date.str.len()\n",
    "date_lengths.value_counts()"
   ]
  },
  {
   "cell_type": "markdown",
   "id": "b770a44c",
   "metadata": {
    "papermill": {
     "duration": 0.008338,
     "end_time": "2023-01-12T16:01:13.855247",
     "exception": false,
     "start_time": "2023-01-12T16:01:13.846909",
     "status": "completed"
    },
    "tags": []
   },
   "source": [
    "Looks like there are two more rows that has a date in a different format.  Run the code cell below to obtain the indices corresponding to those rows and print the data."
   ]
  },
  {
   "cell_type": "code",
   "execution_count": 9,
   "id": "22e8ee89",
   "metadata": {
    "execution": {
     "iopub.execute_input": "2023-01-12T16:01:13.874382Z",
     "iopub.status.busy": "2023-01-12T16:01:13.873325Z",
     "iopub.status.idle": "2023-01-12T16:01:13.903048Z",
     "shell.execute_reply": "2023-01-12T16:01:13.901458Z"
    },
    "papermill": {
     "duration": 0.04253,
     "end_time": "2023-01-12T16:01:13.906150",
     "exception": false,
     "start_time": "2023-01-12T16:01:13.863620",
     "status": "completed"
    },
    "tags": []
   },
   "outputs": [
    {
     "name": "stdout",
     "output_type": "stream",
     "text": [
      "Indices with corrupted data: [ 3378  7512 20650]\n"
     ]
    },
    {
     "data": {
      "text/html": [
       "<div>\n",
       "<style scoped>\n",
       "    .dataframe tbody tr th:only-of-type {\n",
       "        vertical-align: middle;\n",
       "    }\n",
       "\n",
       "    .dataframe tbody tr th {\n",
       "        vertical-align: top;\n",
       "    }\n",
       "\n",
       "    .dataframe thead th {\n",
       "        text-align: right;\n",
       "    }\n",
       "</style>\n",
       "<table border=\"1\" class=\"dataframe\">\n",
       "  <thead>\n",
       "    <tr style=\"text-align: right;\">\n",
       "      <th></th>\n",
       "      <th>Date</th>\n",
       "      <th>Time</th>\n",
       "      <th>Latitude</th>\n",
       "      <th>Longitude</th>\n",
       "      <th>Type</th>\n",
       "      <th>Depth</th>\n",
       "      <th>Depth Error</th>\n",
       "      <th>Depth Seismic Stations</th>\n",
       "      <th>Magnitude</th>\n",
       "      <th>Magnitude Type</th>\n",
       "      <th>...</th>\n",
       "      <th>Magnitude Seismic Stations</th>\n",
       "      <th>Azimuthal Gap</th>\n",
       "      <th>Horizontal Distance</th>\n",
       "      <th>Horizontal Error</th>\n",
       "      <th>Root Mean Square</th>\n",
       "      <th>ID</th>\n",
       "      <th>Source</th>\n",
       "      <th>Location Source</th>\n",
       "      <th>Magnitude Source</th>\n",
       "      <th>Status</th>\n",
       "    </tr>\n",
       "  </thead>\n",
       "  <tbody>\n",
       "    <tr>\n",
       "      <th>3378</th>\n",
       "      <td>1975-02-23T02:58:41.000Z</td>\n",
       "      <td>1975-02-23T02:58:41.000Z</td>\n",
       "      <td>8.017</td>\n",
       "      <td>124.075</td>\n",
       "      <td>Earthquake</td>\n",
       "      <td>623.0</td>\n",
       "      <td>NaN</td>\n",
       "      <td>NaN</td>\n",
       "      <td>5.6</td>\n",
       "      <td>MB</td>\n",
       "      <td>...</td>\n",
       "      <td>NaN</td>\n",
       "      <td>NaN</td>\n",
       "      <td>NaN</td>\n",
       "      <td>NaN</td>\n",
       "      <td>NaN</td>\n",
       "      <td>USP0000A09</td>\n",
       "      <td>US</td>\n",
       "      <td>US</td>\n",
       "      <td>US</td>\n",
       "      <td>Reviewed</td>\n",
       "    </tr>\n",
       "    <tr>\n",
       "      <th>7512</th>\n",
       "      <td>1985-04-28T02:53:41.530Z</td>\n",
       "      <td>1985-04-28T02:53:41.530Z</td>\n",
       "      <td>-32.998</td>\n",
       "      <td>-71.766</td>\n",
       "      <td>Earthquake</td>\n",
       "      <td>33.0</td>\n",
       "      <td>NaN</td>\n",
       "      <td>NaN</td>\n",
       "      <td>5.6</td>\n",
       "      <td>MW</td>\n",
       "      <td>...</td>\n",
       "      <td>NaN</td>\n",
       "      <td>NaN</td>\n",
       "      <td>NaN</td>\n",
       "      <td>NaN</td>\n",
       "      <td>1.30</td>\n",
       "      <td>USP0002E81</td>\n",
       "      <td>US</td>\n",
       "      <td>US</td>\n",
       "      <td>HRV</td>\n",
       "      <td>Reviewed</td>\n",
       "    </tr>\n",
       "    <tr>\n",
       "      <th>20650</th>\n",
       "      <td>2011-03-13T02:23:34.520Z</td>\n",
       "      <td>2011-03-13T02:23:34.520Z</td>\n",
       "      <td>36.344</td>\n",
       "      <td>142.344</td>\n",
       "      <td>Earthquake</td>\n",
       "      <td>10.1</td>\n",
       "      <td>13.9</td>\n",
       "      <td>289.0</td>\n",
       "      <td>5.8</td>\n",
       "      <td>MWC</td>\n",
       "      <td>...</td>\n",
       "      <td>NaN</td>\n",
       "      <td>32.3</td>\n",
       "      <td>NaN</td>\n",
       "      <td>NaN</td>\n",
       "      <td>1.06</td>\n",
       "      <td>USP000HWQP</td>\n",
       "      <td>US</td>\n",
       "      <td>US</td>\n",
       "      <td>GCMT</td>\n",
       "      <td>Reviewed</td>\n",
       "    </tr>\n",
       "  </tbody>\n",
       "</table>\n",
       "<p>3 rows × 21 columns</p>\n",
       "</div>"
      ],
      "text/plain": [
       "                           Date                      Time  Latitude  \\\n",
       "3378   1975-02-23T02:58:41.000Z  1975-02-23T02:58:41.000Z     8.017   \n",
       "7512   1985-04-28T02:53:41.530Z  1985-04-28T02:53:41.530Z   -32.998   \n",
       "20650  2011-03-13T02:23:34.520Z  2011-03-13T02:23:34.520Z    36.344   \n",
       "\n",
       "       Longitude        Type  Depth  Depth Error  Depth Seismic Stations  \\\n",
       "3378     124.075  Earthquake  623.0          NaN                     NaN   \n",
       "7512     -71.766  Earthquake   33.0          NaN                     NaN   \n",
       "20650    142.344  Earthquake   10.1         13.9                   289.0   \n",
       "\n",
       "       Magnitude Magnitude Type  ...  Magnitude Seismic Stations  \\\n",
       "3378         5.6             MB  ...                         NaN   \n",
       "7512         5.6             MW  ...                         NaN   \n",
       "20650        5.8            MWC  ...                         NaN   \n",
       "\n",
       "       Azimuthal Gap  Horizontal Distance  Horizontal Error  Root Mean Square  \\\n",
       "3378             NaN                  NaN               NaN               NaN   \n",
       "7512             NaN                  NaN               NaN              1.30   \n",
       "20650           32.3                  NaN               NaN              1.06   \n",
       "\n",
       "               ID Source Location Source Magnitude Source    Status  \n",
       "3378   USP0000A09     US              US               US  Reviewed  \n",
       "7512   USP0002E81     US              US              HRV  Reviewed  \n",
       "20650  USP000HWQP     US              US             GCMT  Reviewed  \n",
       "\n",
       "[3 rows x 21 columns]"
      ]
     },
     "execution_count": 9,
     "metadata": {},
     "output_type": "execute_result"
    }
   ],
   "source": [
    "indices = np.where([date_lengths == 24])[1]\n",
    "print('Indices with corrupted data:', indices)\n",
    "earthquakes.loc[indices]"
   ]
  },
  {
   "cell_type": "markdown",
   "id": "f93aaef2",
   "metadata": {
    "papermill": {
     "duration": 0.008526,
     "end_time": "2023-01-12T16:01:13.924381",
     "exception": false,
     "start_time": "2023-01-12T16:01:13.915855",
     "status": "completed"
    },
    "tags": []
   },
   "source": [
    "Given all of this information, it's your turn to create a new column \"date_parsed\" in the `earthquakes` dataset that has correctly parsed dates in it.  \n",
    "\n",
    "**Note**: When completing this problem, you are allowed to (but are not required to) amend the entries in the \"Date\" and \"Time\" columns.  Do not remove any rows from the dataset."
   ]
  },
  {
   "cell_type": "code",
   "execution_count": 10,
   "id": "dce7da20",
   "metadata": {
    "execution": {
     "iopub.execute_input": "2023-01-12T16:01:13.943717Z",
     "iopub.status.busy": "2023-01-12T16:01:13.943234Z",
     "iopub.status.idle": "2023-01-12T16:01:13.997563Z",
     "shell.execute_reply": "2023-01-12T16:01:13.996292Z"
    },
    "papermill": {
     "duration": 0.066831,
     "end_time": "2023-01-12T16:01:14.000008",
     "exception": false,
     "start_time": "2023-01-12T16:01:13.933177",
     "status": "completed"
    },
    "tags": []
   },
   "outputs": [
    {
     "data": {
      "application/javascript": [
       "parent.postMessage({\"jupyterEvent\": \"custom.exercise_interaction\", \"data\": {\"outcomeType\": 1, \"valueTowardsCompletion\": 0.25, \"interactionType\": 1, \"questionType\": 2, \"questionId\": \"2_ConvertToDatetime\", \"learnToolsVersion\": \"0.3.4\", \"failureMessage\": \"\", \"exceptionClass\": \"\", \"trace\": \"\"}}, \"*\")"
      ],
      "text/plain": [
       "<IPython.core.display.Javascript object>"
      ]
     },
     "metadata": {},
     "output_type": "display_data"
    },
    {
     "data": {
      "text/markdown": [
       "<span style=\"color:#33cc33\">Correct</span>"
      ],
      "text/plain": [
       "Correct"
      ]
     },
     "metadata": {},
     "output_type": "display_data"
    }
   ],
   "source": [
    "# TODO: Your code here\n",
    "\n",
    "earthquakes.loc[3378, \"Date\"] = \"02/23/1975\"\n",
    "earthquakes.loc[7512, \"Date\"] = \"04/28/1985\"\n",
    "earthquakes.loc[20650, \"Date\"] = \"03/13/2011\"\n",
    "earthquakes['date_parsed'] = pd.to_datetime(earthquakes['Date'], format=\"%m/%d/%Y\")\n",
    "# Check your answer\n",
    "q2.check()"
   ]
  },
  {
   "cell_type": "code",
   "execution_count": 11,
   "id": "048cd4f5",
   "metadata": {
    "execution": {
     "iopub.execute_input": "2023-01-12T16:01:14.020205Z",
     "iopub.status.busy": "2023-01-12T16:01:14.019777Z",
     "iopub.status.idle": "2023-01-12T16:01:14.033773Z",
     "shell.execute_reply": "2023-01-12T16:01:14.032713Z"
    },
    "papermill": {
     "duration": 0.027316,
     "end_time": "2023-01-12T16:01:14.036114",
     "exception": false,
     "start_time": "2023-01-12T16:01:14.008798",
     "status": "completed"
    },
    "tags": []
   },
   "outputs": [
    {
     "data": {
      "application/javascript": [
       "parent.postMessage({\"jupyterEvent\": \"custom.exercise_interaction\", \"data\": {\"interactionType\": 2, \"questionType\": 2, \"questionId\": \"2_ConvertToDatetime\", \"learnToolsVersion\": \"0.3.4\", \"valueTowardsCompletion\": 0.0, \"failureMessage\": \"\", \"exceptionClass\": \"\", \"trace\": \"\", \"outcomeType\": 4}}, \"*\")"
      ],
      "text/plain": [
       "<IPython.core.display.Javascript object>"
      ]
     },
     "metadata": {},
     "output_type": "display_data"
    },
    {
     "data": {
      "text/markdown": [
       "<span style=\"color:#3366cc\">Hint:</span> Since there are only three rows with a fancy type, you might consider manually editing them. For instance, you can begin by setting `earthquakes.loc[3378, \"Date\"] = \"02/23/1975\"`."
      ],
      "text/plain": [
       "Hint: Since there are only three rows with a fancy type, you might consider manually editing them. For instance, you can begin by setting `earthquakes.loc[3378, \"Date\"] = \"02/23/1975\"`."
      ]
     },
     "metadata": {},
     "output_type": "display_data"
    },
    {
     "data": {
      "application/javascript": [
       "parent.postMessage({\"jupyterEvent\": \"custom.exercise_interaction\", \"data\": {\"interactionType\": 3, \"questionType\": 2, \"questionId\": \"2_ConvertToDatetime\", \"learnToolsVersion\": \"0.3.4\", \"valueTowardsCompletion\": 0.0, \"failureMessage\": \"\", \"exceptionClass\": \"\", \"trace\": \"\", \"outcomeType\": 4}}, \"*\")"
      ],
      "text/plain": [
       "<IPython.core.display.Javascript object>"
      ]
     },
     "metadata": {},
     "output_type": "display_data"
    },
    {
     "data": {
      "text/markdown": [
       "<span style=\"color:#33cc99\">Solution:</span> \n",
       "```python\n",
       "\n",
       "earthquakes.loc[3378, \"Date\"] = \"02/23/1975\"\n",
       "earthquakes.loc[7512, \"Date\"] = \"04/28/1985\"\n",
       "earthquakes.loc[20650, \"Date\"] = \"03/13/2011\"\n",
       "earthquakes['date_parsed'] = pd.to_datetime(earthquakes['Date'], format=\"%m/%d/%Y\")\n",
       "\n",
       "```"
      ],
      "text/plain": [
       "Solution: \n",
       "```python\n",
       "\n",
       "earthquakes.loc[3378, \"Date\"] = \"02/23/1975\"\n",
       "earthquakes.loc[7512, \"Date\"] = \"04/28/1985\"\n",
       "earthquakes.loc[20650, \"Date\"] = \"03/13/2011\"\n",
       "earthquakes['date_parsed'] = pd.to_datetime(earthquakes['Date'], format=\"%m/%d/%Y\")\n",
       "\n",
       "```"
      ]
     },
     "metadata": {},
     "output_type": "display_data"
    }
   ],
   "source": [
    "# Lines below will give you a hint or solution code\n",
    "q2.hint()\n",
    "q2.solution()"
   ]
  },
  {
   "cell_type": "markdown",
   "id": "80538891",
   "metadata": {
    "papermill": {
     "duration": 0.008986,
     "end_time": "2023-01-12T16:01:14.054328",
     "exception": false,
     "start_time": "2023-01-12T16:01:14.045342",
     "status": "completed"
    },
    "tags": []
   },
   "source": [
    "# 3) Select the day of the month\n",
    "\n",
    "Create a Pandas Series `day_of_month_earthquakes` containing the day of the month from the \"date_parsed\" column."
   ]
  },
  {
   "cell_type": "code",
   "execution_count": 12,
   "id": "334287aa",
   "metadata": {
    "collapsed": true,
    "execution": {
     "iopub.execute_input": "2023-01-12T16:01:14.075267Z",
     "iopub.status.busy": "2023-01-12T16:01:14.074439Z",
     "iopub.status.idle": "2023-01-12T16:01:14.085069Z",
     "shell.execute_reply": "2023-01-12T16:01:14.083870Z"
    },
    "jupyter": {
     "outputs_hidden": true
    },
    "papermill": {
     "duration": 0.023834,
     "end_time": "2023-01-12T16:01:14.087363",
     "exception": false,
     "start_time": "2023-01-12T16:01:14.063529",
     "status": "completed"
    },
    "tags": []
   },
   "outputs": [
    {
     "data": {
      "application/javascript": [
       "parent.postMessage({\"jupyterEvent\": \"custom.exercise_interaction\", \"data\": {\"outcomeType\": 4, \"interactionType\": 1, \"questionType\": 1, \"questionId\": \"3_DayOfMonth\", \"learnToolsVersion\": \"0.3.4\", \"valueTowardsCompletion\": 0.0, \"failureMessage\": \"\", \"exceptionClass\": \"\", \"trace\": \"\"}}, \"*\")"
      ],
      "text/plain": [
       "<IPython.core.display.Javascript object>"
      ]
     },
     "metadata": {},
     "output_type": "display_data"
    },
    {
     "data": {
      "text/markdown": [
       "<span style=\"color:#ccaa33\">Check:</span> When you've updated the starter code, `check()` will tell you whether your code is correct. You need to update the code that creates variable `day_of_month_earthquakes`"
      ],
      "text/plain": [
       "Check: When you've updated the starter code, `check()` will tell you whether your code is correct. You need to update the code that creates variable `day_of_month_earthquakes`"
      ]
     },
     "metadata": {},
     "output_type": "display_data"
    }
   ],
   "source": [
    "# try to get the day of the month from the date column\n",
    "day_of_month_earthquakes = ____\n",
    "\n",
    "# Check your answer\n",
    "q3.check()"
   ]
  },
  {
   "cell_type": "code",
   "execution_count": 13,
   "id": "8d4d855e",
   "metadata": {
    "execution": {
     "iopub.execute_input": "2023-01-12T16:01:14.108675Z",
     "iopub.status.busy": "2023-01-12T16:01:14.107856Z",
     "iopub.status.idle": "2023-01-12T16:01:14.113181Z",
     "shell.execute_reply": "2023-01-12T16:01:14.111830Z"
    },
    "papermill": {
     "duration": 0.0189,
     "end_time": "2023-01-12T16:01:14.115888",
     "exception": false,
     "start_time": "2023-01-12T16:01:14.096988",
     "status": "completed"
    },
    "tags": []
   },
   "outputs": [],
   "source": [
    "# Lines below will give you a hint or solution code\n",
    "#q3.hint()\n",
    "#q3.solution()"
   ]
  },
  {
   "cell_type": "markdown",
   "id": "ba0b54c7",
   "metadata": {
    "papermill": {
     "duration": 0.009181,
     "end_time": "2023-01-12T16:01:14.134924",
     "exception": false,
     "start_time": "2023-01-12T16:01:14.125743",
     "status": "completed"
    },
    "tags": []
   },
   "source": [
    "# 4) Plot the day of the month to check the date parsing\n",
    "\n",
    "Plot the days of the month from your earthquake dataset."
   ]
  },
  {
   "cell_type": "code",
   "execution_count": 14,
   "id": "7a0ea061",
   "metadata": {
    "execution": {
     "iopub.execute_input": "2023-01-12T16:01:14.156590Z",
     "iopub.status.busy": "2023-01-12T16:01:14.155784Z",
     "iopub.status.idle": "2023-01-12T16:01:14.160666Z",
     "shell.execute_reply": "2023-01-12T16:01:14.159786Z"
    },
    "papermill": {
     "duration": 0.018623,
     "end_time": "2023-01-12T16:01:14.163018",
     "exception": false,
     "start_time": "2023-01-12T16:01:14.144395",
     "status": "completed"
    },
    "tags": []
   },
   "outputs": [],
   "source": [
    "# TODO: Your code here!\n"
   ]
  },
  {
   "cell_type": "markdown",
   "id": "1e81853e",
   "metadata": {
    "papermill": {
     "duration": 0.014795,
     "end_time": "2023-01-12T16:01:14.187664",
     "exception": false,
     "start_time": "2023-01-12T16:01:14.172869",
     "status": "completed"
    },
    "tags": []
   },
   "source": [
    "Does the graph make sense to you?"
   ]
  },
  {
   "cell_type": "code",
   "execution_count": 15,
   "id": "319d2a4b",
   "metadata": {
    "collapsed": true,
    "execution": {
     "iopub.execute_input": "2023-01-12T16:01:14.214699Z",
     "iopub.status.busy": "2023-01-12T16:01:14.213387Z",
     "iopub.status.idle": "2023-01-12T16:01:14.224422Z",
     "shell.execute_reply": "2023-01-12T16:01:14.223526Z"
    },
    "jupyter": {
     "outputs_hidden": true
    },
    "papermill": {
     "duration": 0.026657,
     "end_time": "2023-01-12T16:01:14.226621",
     "exception": false,
     "start_time": "2023-01-12T16:01:14.199964",
     "status": "completed"
    },
    "tags": []
   },
   "outputs": [
    {
     "data": {
      "application/javascript": [
       "parent.postMessage({\"jupyterEvent\": \"custom.exercise_interaction\", \"data\": {\"outcomeType\": 1, \"valueTowardsCompletion\": 0.25, \"interactionType\": 1, \"questionType\": 4, \"questionId\": \"4_PlotDayOfMonth\", \"learnToolsVersion\": \"0.3.4\", \"failureMessage\": \"\", \"exceptionClass\": \"\", \"trace\": \"\"}}, \"*\")"
      ],
      "text/plain": [
       "<IPython.core.display.Javascript object>"
      ]
     },
     "metadata": {},
     "output_type": "display_data"
    },
    {
     "data": {
      "text/markdown": [
       "<span style=\"color:#33cc33\">Correct:</span> \n",
       "\n",
       "The graph should make sense: it shows a relatively even distribution in days of the month,which is what we would expect."
      ],
      "text/plain": [
       "Correct: \n",
       "\n",
       "The graph should make sense: it shows a relatively even distribution in days of the month,which is what we would expect."
      ]
     },
     "metadata": {},
     "output_type": "display_data"
    }
   ],
   "source": [
    "# Check your answer (Run this code cell to receive credit!)\n",
    "q4.check()"
   ]
  },
  {
   "cell_type": "code",
   "execution_count": 16,
   "id": "ba838e5e",
   "metadata": {
    "execution": {
     "iopub.execute_input": "2023-01-12T16:01:14.249907Z",
     "iopub.status.busy": "2023-01-12T16:01:14.249394Z",
     "iopub.status.idle": "2023-01-12T16:01:14.255155Z",
     "shell.execute_reply": "2023-01-12T16:01:14.253713Z"
    },
    "papermill": {
     "duration": 0.02082,
     "end_time": "2023-01-12T16:01:14.257954",
     "exception": false,
     "start_time": "2023-01-12T16:01:14.237134",
     "status": "completed"
    },
    "tags": []
   },
   "outputs": [],
   "source": [
    "# Line below will give you a hint\n",
    "#q4.hint()"
   ]
  },
  {
   "cell_type": "markdown",
   "id": "dbab5f9e",
   "metadata": {
    "papermill": {
     "duration": 0.01032,
     "end_time": "2023-01-12T16:01:14.279067",
     "exception": false,
     "start_time": "2023-01-12T16:01:14.268747",
     "status": "completed"
    },
    "tags": []
   },
   "source": [
    "# (Optional) Bonus Challenge\n",
    "\n",
    "For an extra challenge, you'll work with a [Smithsonian dataset](https://www.kaggle.com/smithsonian/volcanic-eruptions) that documents Earth's volcanoes and their eruptive history over the past 10,000 years \n",
    "\n",
    "Run the next code cell to load the data."
   ]
  },
  {
   "cell_type": "code",
   "execution_count": 17,
   "id": "c8e4cf78",
   "metadata": {
    "collapsed": true,
    "execution": {
     "iopub.execute_input": "2023-01-12T16:01:14.304619Z",
     "iopub.status.busy": "2023-01-12T16:01:14.303788Z",
     "iopub.status.idle": "2023-01-12T16:01:14.339934Z",
     "shell.execute_reply": "2023-01-12T16:01:14.338801Z"
    },
    "jupyter": {
     "outputs_hidden": true
    },
    "papermill": {
     "duration": 0.051872,
     "end_time": "2023-01-12T16:01:14.342673",
     "exception": false,
     "start_time": "2023-01-12T16:01:14.290801",
     "status": "completed"
    },
    "tags": []
   },
   "outputs": [],
   "source": [
    "volcanos = pd.read_csv(\"../input/volcanic-eruptions/database.csv\")"
   ]
  },
  {
   "cell_type": "markdown",
   "id": "1d65f4f0",
   "metadata": {
    "papermill": {
     "duration": 0.010301,
     "end_time": "2023-01-12T16:01:14.363972",
     "exception": false,
     "start_time": "2023-01-12T16:01:14.353671",
     "status": "completed"
    },
    "tags": []
   },
   "source": [
    "Try parsing the column \"Last Known Eruption\" from the `volcanos` dataframe. This column contains a mixture of text (\"Unknown\") and years both before the common era (BCE, also known as BC) and in the common era (CE, also known as AD)."
   ]
  },
  {
   "cell_type": "code",
   "execution_count": 18,
   "id": "d9c02fad",
   "metadata": {
    "execution": {
     "iopub.execute_input": "2023-01-12T16:01:14.387577Z",
     "iopub.status.busy": "2023-01-12T16:01:14.386622Z",
     "iopub.status.idle": "2023-01-12T16:01:14.396625Z",
     "shell.execute_reply": "2023-01-12T16:01:14.395414Z"
    },
    "papermill": {
     "duration": 0.024663,
     "end_time": "2023-01-12T16:01:14.399190",
     "exception": false,
     "start_time": "2023-01-12T16:01:14.374527",
     "status": "completed"
    },
    "tags": []
   },
   "outputs": [
    {
     "data": {
      "text/plain": [
       "764     Unknown\n",
       "1069    1996 CE\n",
       "34      1855 CE\n",
       "489     2016 CE\n",
       "9       1302 CE\n",
       "Name: Last Known Eruption, dtype: object"
      ]
     },
     "execution_count": 18,
     "metadata": {},
     "output_type": "execute_result"
    }
   ],
   "source": [
    "volcanos['Last Known Eruption'].sample(5)"
   ]
  },
  {
   "cell_type": "markdown",
   "id": "9e7cd274",
   "metadata": {
    "papermill": {
     "duration": 0.009957,
     "end_time": "2023-01-12T16:01:14.420192",
     "exception": false,
     "start_time": "2023-01-12T16:01:14.410235",
     "status": "completed"
    },
    "tags": []
   },
   "source": [
    "# (Optional) More practice\n",
    "\n",
    "If you're interested in graphing time series, [check out this tutorial](https://www.kaggle.com/residentmario/time-series-plotting-optional).\n",
    "\n",
    "You can also look into passing columns that you know have dates in them  the `parse_dates` argument in `read_csv`. (The documention [is here](https://pandas.pydata.org/pandas-docs/stable/generated/pandas.read_csv.html).) Do note that this method can be very slow, but depending on your needs it may sometimes be handy to use.\n",
    "\n",
    "# Keep going\n",
    "\n",
    "In the next lesson, learn how to [**work with character encodings**](https://www.kaggle.com/alexisbcook/character-encodings)."
   ]
  },
  {
   "cell_type": "markdown",
   "id": "db359474",
   "metadata": {
    "papermill": {
     "duration": 0.009977,
     "end_time": "2023-01-12T16:01:14.440504",
     "exception": false,
     "start_time": "2023-01-12T16:01:14.430527",
     "status": "completed"
    },
    "tags": []
   },
   "source": [
    "---\n",
    "\n",
    "\n",
    "\n",
    "\n",
    "*Have questions or comments? Visit the [course discussion forum](https://www.kaggle.com/learn/data-cleaning/discussion) to chat with other learners.*"
   ]
  }
 ],
 "metadata": {
  "kernelspec": {
   "display_name": "Python 3",
   "language": "python",
   "name": "python3"
  },
  "language_info": {
   "codemirror_mode": {
    "name": "ipython",
    "version": 3
   },
   "file_extension": ".py",
   "mimetype": "text/x-python",
   "name": "python",
   "nbconvert_exporter": "python",
   "pygments_lexer": "ipython3",
   "version": "3.7.12"
  },
  "papermill": {
   "default_parameters": {},
   "duration": 12.61854,
   "end_time": "2023-01-12T16:01:15.272872",
   "environment_variables": {},
   "exception": null,
   "input_path": "__notebook__.ipynb",
   "output_path": "__notebook__.ipynb",
   "parameters": {},
   "start_time": "2023-01-12T16:01:02.654332",
   "version": "2.3.4"
  }
 },
 "nbformat": 4,
 "nbformat_minor": 5
}
